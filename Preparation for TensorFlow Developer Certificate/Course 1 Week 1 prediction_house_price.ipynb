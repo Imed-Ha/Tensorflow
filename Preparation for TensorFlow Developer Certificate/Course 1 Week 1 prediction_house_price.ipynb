{
 "cells": [
  {
   "cell_type": "code",
   "execution_count": 1,
   "metadata": {},
   "outputs": [],
   "source": [
    "# This assignment aims to evaluate the information acquired on creating a simple model for predicting house prices."
   ]
  },
  {
   "cell_type": "code",
   "execution_count": 7,
   "metadata": {},
   "outputs": [
    {
     "name": "stdout",
     "output_type": "stream",
     "text": [
      "2.9.1\n"
     ]
    }
   ],
   "source": [
    "import tensorflow as tf\n",
    "import numpy as np\n",
    "from tensorflow import keras\n",
    "print(tf.__version__)"
   ]
  },
  {
   "cell_type": "code",
   "execution_count": 3,
   "metadata": {},
   "outputs": [],
   "source": [
    "# The following function creates a prediction model: prediction_house_model\n",
    "def prediction_house_model():\n",
    "    # define the training data, the data should be in float32 type\n",
    "    x_train = np.array([1,2,3,4,5,6], dtype=float).astype('float32')\n",
    "    y_train = np.array([1,1.5,2,2.5,3,3.5], dtype=float).astype('float32')\n",
    "    # define the model which consists of 1 dense layer and 1 node.\n",
    "    model = tf.keras.models.Sequential([keras.layers.Dense(units=1, input_shape=(1,))])\n",
    "    # compile the model on defining the loss function and the optimizer\n",
    "    model.compile(optimizer=tf.keras.optimizers.Adam(),loss=tf.keras.losses.MeanSquaredError())\n",
    "    # feed the training data to the model using 50 epochs\n",
    "    model.fit(x_train, y_train, epochs=10)\n",
    "    return model"
   ]
  },
  {
   "cell_type": "code",
   "execution_count": 4,
   "metadata": {},
   "outputs": [
    {
     "name": "stdout",
     "output_type": "stream",
     "text": [
      "Epoch 1/10\n",
      "1/1 [==============================] - 1s 805ms/step - loss: 8.3813\n",
      "Epoch 2/10\n",
      "1/1 [==============================] - 0s 8ms/step - loss: 8.3534\n",
      "Epoch 3/10\n",
      "1/1 [==============================] - 0s 6ms/step - loss: 8.3256\n",
      "Epoch 4/10\n",
      "1/1 [==============================] - 0s 9ms/step - loss: 8.2979\n",
      "Epoch 5/10\n",
      "1/1 [==============================] - 0s 10ms/step - loss: 8.2702\n",
      "Epoch 6/10\n",
      "1/1 [==============================] - 0s 9ms/step - loss: 8.2425\n",
      "Epoch 7/10\n",
      "1/1 [==============================] - 0s 9ms/step - loss: 8.2149\n",
      "Epoch 8/10\n",
      "1/1 [==============================] - 0s 8ms/step - loss: 8.1874\n",
      "Epoch 9/10\n",
      "1/1 [==============================] - 0s 8ms/step - loss: 8.1599\n",
      "Epoch 10/10\n",
      "1/1 [==============================] - 0s 10ms/step - loss: 8.1325\n"
     ]
    }
   ],
   "source": [
    "# create a prediction model\n",
    "model = None\n",
    "model = prediction_house_model()"
   ]
  },
  {
   "cell_type": "code",
   "execution_count": 5,
   "metadata": {},
   "outputs": [
    {
     "name": "stdout",
     "output_type": "stream",
     "text": [
      "1/1 [==============================] - 0s 238ms/step\n",
      "[-0.68518716]\n"
     ]
    }
   ],
   "source": [
    "x_sample = 6.0\n",
    "prediction = model.predict([x_sample])[0]\n",
    "print(prediction)"
   ]
  },
  {
   "cell_type": "code",
   "execution_count": 6,
   "metadata": {},
   "outputs": [],
   "source": [
    "# save the prediction model\n",
    "model.save('Models/prediction_house_model.h5')"
   ]
  },
  {
   "cell_type": "code",
   "execution_count": null,
   "metadata": {},
   "outputs": [],
   "source": [
    "# n"
   ]
  }
 ],
 "metadata": {
  "kernelspec": {
   "display_name": "Python 3 (ipykernel)",
   "language": "python",
   "name": "python3"
  },
  "language_info": {
   "codemirror_mode": {
    "name": "ipython",
    "version": 3
   },
   "file_extension": ".py",
   "mimetype": "text/x-python",
   "name": "python",
   "nbconvert_exporter": "python",
   "pygments_lexer": "ipython3",
   "version": "3.10.2"
  },
  "vscode": {
   "interpreter": {
    "hash": "ef886145d35e4e7d28b8b544ea62a29d1cfe346a0e8ba75927ba691bc98a4767"
   }
  }
 },
 "nbformat": 4,
 "nbformat_minor": 2
}
