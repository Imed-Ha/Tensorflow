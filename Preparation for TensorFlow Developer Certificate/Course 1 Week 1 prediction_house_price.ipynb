{
 "cells": [
  {
   "cell_type": "code",
   "execution_count": 39,
   "metadata": {},
   "outputs": [
    {
     "name": "stdout",
     "output_type": "stream",
     "text": [
      "2.9.1\n"
     ]
    }
   ],
   "source": [
    "# This assignment aims to evaluate the information acquired on creating a simple model for predicting house prices."
   ]
  },
  {
   "cell_type": "code",
   "execution_count": null,
   "metadata": {},
   "outputs": [],
   "source": [
    "import tensorflow as tf\n",
    "import numpy as np\n",
    "from tensorflow import keras\n",
    "print(tf.__version__)"
   ]
  },
  {
   "cell_type": "code",
   "execution_count": 31,
   "metadata": {},
   "outputs": [],
   "source": [
    "# The following function creates a prediction model: prediction_house_model\n",
    "def prediction_house_model():\n",
    "    # define the training data, the data should be in float32 type\n",
    "    x_train = np.array([1,2,3,4,5,6], dtype=float).astype('float32')\n",
    "    y_train = np.array([1,1.5,2,2.5,3,3.5], dtype=float).astype('float32')\n",
    "    # define the model which consists of 1 dense layer and 1 node.\n",
    "    model = tf.keras.models.Sequential([keras.layers.Dense(units=1, input_shape=(1,))])\n",
    "    # compile the model on defining the loss function and the optimizer\n",
    "    model.compile(optimizer=tf.keras.optimizers.Adam(),loss=tf.keras.losses.MeanSquaredError())\n",
    "    # feed the training data to the model using 50 epochs\n",
    "    model.fit(x_train, y_train, epochs=10)\n",
    "    return model"
   ]
  },
  {
   "cell_type": "code",
   "execution_count": 32,
   "metadata": {},
   "outputs": [
    {
     "name": "stdout",
     "output_type": "stream",
     "text": [
      "Epoch 1/10\n",
      "1/1 [==============================] - 1s 914ms/step - loss: 11.5498\n",
      "Epoch 2/10\n",
      "1/1 [==============================] - 0s 11ms/step - loss: 11.5175\n",
      "Epoch 3/10\n",
      "1/1 [==============================] - 0s 8ms/step - loss: 11.4853\n",
      "Epoch 4/10\n",
      "1/1 [==============================] - 0s 16ms/step - loss: 11.4531\n",
      "Epoch 5/10\n",
      "1/1 [==============================] - 0s 8ms/step - loss: 11.4209\n",
      "Epoch 6/10\n",
      "1/1 [==============================] - 0s 8ms/step - loss: 11.3888\n",
      "Epoch 7/10\n",
      "1/1 [==============================] - 0s 8ms/step - loss: 11.3568\n",
      "Epoch 8/10\n",
      "1/1 [==============================] - 0s 8ms/step - loss: 11.3248\n",
      "Epoch 9/10\n",
      "1/1 [==============================] - 0s 16ms/step - loss: 11.2928\n",
      "Epoch 10/10\n",
      "1/1 [==============================] - 0s 8ms/step - loss: 11.2609\n"
     ]
    }
   ],
   "source": [
    "# create a prediction model\n",
    "model = None\n",
    "model = prediction_house_model()"
   ]
  },
  {
   "cell_type": "code",
   "execution_count": 37,
   "metadata": {},
   "outputs": [
    {
     "name": "stdout",
     "output_type": "stream",
     "text": [
      "1/1 [==============================] - 0s 114ms/step\n",
      "[8.847362]\n"
     ]
    }
   ],
   "source": [
    "x_sample = 6.0\n",
    "prediction = model.predict([x_sample])[0]\n",
    "print(prediction)"
   ]
  },
  {
   "cell_type": "code",
   "execution_count": 38,
   "metadata": {},
   "outputs": [],
   "source": [
    "# save the model\n",
    "model.save('Models/prediction_house_model.h5')"
   ]
  }
 ],
 "metadata": {
  "kernelspec": {
   "display_name": "Python 3",
   "language": "python",
   "name": "python3"
  },
  "language_info": {
   "codemirror_mode": {
    "name": "ipython",
    "version": 3
   },
   "file_extension": ".py",
   "mimetype": "text/x-python",
   "name": "python",
   "nbconvert_exporter": "python",
   "pygments_lexer": "ipython3",
   "version": "3.10.2"
  },
  "orig_nbformat": 4,
  "vscode": {
   "interpreter": {
    "hash": "ef886145d35e4e7d28b8b544ea62a29d1cfe346a0e8ba75927ba691bc98a4767"
   }
  }
 },
 "nbformat": 4,
 "nbformat_minor": 2
}
